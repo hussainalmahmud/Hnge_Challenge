{
  "nbformat": 4,
  "nbformat_minor": 0,
  "metadata": {
    "colab": {
      "provenance": [],
      "toc_visible": true,
      "authorship_tag": "ABX9TyMgejGGK4F7QbahlDvPkZ76",
      "include_colab_link": true
    },
    "kernelspec": {
      "name": "python3",
      "display_name": "Python 3"
    },
    "language_info": {
      "name": "python"
    }
  },
  "cells": [
    {
      "cell_type": "markdown",
      "metadata": {
        "id": "view-in-github",
        "colab_type": "text"
      },
      "source": [
        "<a href=\"https://colab.research.google.com/github/hussainsan/Hnge_Challenge/blob/main/data_science_github_notebook.ipynb\" target=\"_parent\"><img src=\"https://colab.research.google.com/assets/colab-badge.svg\" alt=\"Open In Colab\"/></a>"
      ]
    },
    {
      "cell_type": "markdown",
      "source": [
        "## Inges"
      ],
      "metadata": {
        "id": "CunmALG6wwaa"
      }
    },
    {
      "cell_type": "markdown",
      "source": [
        "## EDA"
      ],
      "metadata": {
        "id": "0EJhB5Fxwy6i"
      }
    },
    {
      "cell_type": "markdown",
      "source": [
        "## Modeling"
      ],
      "metadata": {
        "id": "pmO-yADFw3_T"
      }
    },
    {
      "cell_type": "markdown",
      "source": [
        "### algorithm one"
      ],
      "metadata": {
        "id": "ajOACtWkw-hx"
      }
    },
    {
      "cell_type": "markdown",
      "source": [
        "## Conlcusion"
      ],
      "metadata": {
        "id": "TEJbBlNKw6hA"
      }
    },
    {
      "cell_type": "markdown",
      "source": [
        "### after analysis"
      ],
      "metadata": {
        "id": "7USwwh74xNB6"
      }
    },
    {
      "cell_type": "code",
      "execution_count": null,
      "metadata": {
        "id": "gF90Cg5VwsT8"
      },
      "outputs": [],
      "source": []
    }
  ]
}